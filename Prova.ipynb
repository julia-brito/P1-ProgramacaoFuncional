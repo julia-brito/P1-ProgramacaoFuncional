{
 "cells": [
  {
   "cell_type": "code",
   "execution_count": 1,
   "metadata": {},
   "outputs": [
    {
     "data": {
      "text/plain": [
       "<sqlite3.Cursor at 0x19b768fadc0>"
      ]
     },
     "execution_count": 1,
     "metadata": {},
     "output_type": "execute_result"
    }
   ],
   "source": [
    "#RA: 177702\n",
    "\n",
    "import sqlite3\n",
    "import datetime\n",
    "\n",
    "conn = sqlite3.connect('provaparcial.db')\n",
    "\n",
    "cursor = conn.cursor()\n",
    "\n",
    "cursor.execute(\"\"\"\n",
    "CREATE TABLE IF NOT EXISTS Department(\n",
    "    DepartmentID INTEGER NOT NULL PRIMARY KEY AUTOINCREMENT,\n",
    "    Name TEXT NOT NULL,\n",
    "    Region TEXT NOT NULL\n",
    ")\n",
    "\"\"\")\n",
    "\n",
    "cursor.execute(\"\"\"\n",
    "CREATE TABLE IF NOT EXISTS Employee(\n",
    "    EmployeeID INTEGER NOT NULL PRIMARY KEY AUTOINCREMENT,\n",
    "    DepartmentID INTEGER NOT NULL,\n",
    "    Name TEXT NOT NULL,\n",
    "    Birthday DATETIME NOT NULL,\n",
    "    Salary FLOAT(10.2) NOT NULL, \n",
    "    Job TEXT NOT NULL,\n",
    "    FOREIGN KEY(DepartmentID)\n",
    "\t\tREFERENCES Department(DepartmentID)\n",
    ")\n",
    "\"\"\")"
   ]
  },
  {
   "cell_type": "code",
   "execution_count": 14,
   "metadata": {},
   "outputs": [
    {
     "name": "stdout",
     "output_type": "stream",
     "text": [
      "linha criada\n"
     ]
    }
   ],
   "source": [
    "import sqlite3\n",
    "\n",
    "conn = sqlite3.connect('provaparcial.db')\n",
    "\n",
    "cursor = conn.cursor()\n",
    "Name = input('Digite o nome: ')\n",
    "Region = input('Digite a Região: ')\n",
    "\n",
    "cursor.execute('INSERT INTO Department (Name, Region) VALUES (?,?)', (Name, Region))\n",
    "print('linha criada')\n",
    "\n",
    "conn.commit()\n",
    "conn.close()"
   ]
  },
  {
   "cell_type": "code",
   "execution_count": 19,
   "metadata": {},
   "outputs": [
    {
     "name": "stdout",
     "output_type": "stream",
     "text": [
      "linha criada\n"
     ]
    }
   ],
   "source": [
    "import sqlite3\n",
    "import datetime\n",
    "\n",
    "conn = sqlite3.connect('provaparcial.db')\n",
    "\n",
    "cursor = conn.cursor()\n",
    "DepartmentID = input('Digite o ID do departamento: ')\n",
    "Name = input('Digite o nome: ')\n",
    "Birthday = datetime.datetime.now()\n",
    "Salary = input('Digite o salário:')\n",
    "Job = input('Digite o emprego:')\n",
    "\n",
    "\n",
    "\n",
    "cursor.execute('INSERT INTO Employee (DepartmentID, Name, Birthday, Salary, Job) VALUES (?,?,?,?,?)', (DepartmentID, Name, Birthday, Salary, Job))\n",
    "print('linha criada')\n",
    "\n",
    "conn.commit()\n",
    "conn.close()"
   ]
  },
  {
   "cell_type": "code",
   "execution_count": 21,
   "metadata": {},
   "outputs": [
    {
     "name": "stdout",
     "output_type": "stream",
     "text": [
      "(4, 'Departamento 1', 'Sudeste', None, None, None, None, None, None)\n",
      "(5, 'Departamento 2.0', 'Sul', 2, 5, 'Luan Lara', '2022-09-19 14:45:22.447123', 2000.0, 'Dev Dados')\n",
      "(6, 'Departamento 3', 'Norte', None, None, None, None, None, None)\n"
     ]
    }
   ],
   "source": [
    "import sqlite3\n",
    "\n",
    "conn = sqlite3.connect('provaparcial.db')\n",
    "\n",
    "cursor = conn.cursor()\n",
    "cursor.execute('SELECT * FROM Department left join Employee on Department.DepartmentID = Employee.DepartmentID')\n",
    "\n",
    "for linha in cursor.fetchall():\n",
    "    print(linha)\n",
    "\n",
    "conn.commit()\n",
    "conn.close()"
   ]
  },
  {
   "cell_type": "code",
   "execution_count": 17,
   "metadata": {},
   "outputs": [
    {
     "name": "stdout",
     "output_type": "stream",
     "text": [
      "update realizado com sucesso\n"
     ]
    }
   ],
   "source": [
    "import sqlite3\n",
    "conn = sqlite3.connect('provaparcial.db')\n",
    "\n",
    "cursor = conn.cursor()\n",
    "Name = input('Digite o nome: ')\n",
    "iddepto = input('Digite o ID para alteração: ')\n",
    "Name_Employee = input('Digite o novo nome: ')\n",
    "idemployee = input('Digite novo ID para funcionário: ')\n",
    "cursor.execute('UPDATE Department SET Name = ? WHERE DepartmentID = ?', (Name, iddepto))\n",
    "cursor.execute('UPDATE Employee SET Name = ? WHERE EmployeeID = ?', (Name_Employee, idemployee))\n",
    "\n",
    "print('update realizado com sucesso')\n",
    "\n",
    "conn.commit()\n",
    "conn.close()"
   ]
  },
  {
   "cell_type": "code",
   "execution_count": 11,
   "metadata": {},
   "outputs": [
    {
     "name": "stdout",
     "output_type": "stream",
     "text": [
      "delete ok\n"
     ]
    }
   ],
   "source": [
    "import sqlite3\n",
    "conn = sqlite3.connect('provaparcial.db')\n",
    "\n",
    "cursor = conn.cursor()\n",
    "\n",
    "cursor.execute('DELETE FROM Department WHERE DepartmentID = 3')\n",
    "cursor.execute('DELETE FROM Employee WHERE EmployeeID = 2')\n",
    "\n",
    "print('delete ok')\n",
    "\n",
    "conn.commit()\n",
    "conn.close()"
   ]
  }
 ],
 "metadata": {
  "kernelspec": {
   "display_name": "Python 3.10.5 64-bit",
   "language": "python",
   "name": "python3"
  },
  "language_info": {
   "codemirror_mode": {
    "name": "ipython",
    "version": 3
   },
   "file_extension": ".py",
   "mimetype": "text/x-python",
   "name": "python",
   "nbconvert_exporter": "python",
   "pygments_lexer": "ipython3",
   "version": "3.10.5"
  },
  "orig_nbformat": 4,
  "vscode": {
   "interpreter": {
    "hash": "dde434ea5b67b1cdaff4edb2f331e17c7f103a32c3b12f68951a4d082b159262"
   }
  }
 },
 "nbformat": 4,
 "nbformat_minor": 2
}
